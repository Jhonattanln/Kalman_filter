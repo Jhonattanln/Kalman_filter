{
 "cells": [
  {
   "cell_type": "markdown",
   "metadata": {},
   "source": [
    "### Kalman Filter applied in market beta"
   ]
  },
  {
   "cell_type": "code",
   "execution_count": 106,
   "metadata": {},
   "outputs": [],
   "source": [
    "### Importing librarys\n",
    "import pandas as pd\n",
    "import numpy as np\n",
    "from pykalman import KalmanFilter\n",
    "import matplotlib.pyplot as plt\n",
    "plt.style.use('seaborn-whitegrid') #### Plot style"
   ]
  },
  {
   "cell_type": "code",
   "execution_count": 107,
   "metadata": {},
   "outputs": [],
   "source": [
    "### Importing data from economatica\n",
    "df = pd.read_excel('C:/Users/Jhona/OneDrive - Grupo Marista/TCC/Dados (Temporário)/retornos_diarios.xlsx', skiprows=3, \n",
    "                    parse_dates=True, index_col=0)\n",
    "ibov = pd.read_excel('C:/Users/Jhona/OneDrive - Grupo Marista/TCC/Dados (Temporário)/retornos_ibov.xlsx', skiprows=3, \n",
    "                    parse_dates=True, index_col=0)"
   ]
  },
  {
   "cell_type": "markdown",
   "metadata": {},
   "source": [
    "##### Manipulating data"
   ]
  },
  {
   "cell_type": "code",
   "execution_count": 108,
   "metadata": {},
   "outputs": [],
   "source": [
    "df.drop(index=df.index[0], axis=0, inplace=True) ### excluding the first row \n",
    "ibov.drop(index=df.index[0], axis=0, inplace=True)"
   ]
  },
  {
   "cell_type": "code",
   "execution_count": 109,
   "metadata": {},
   "outputs": [],
   "source": [
    "df.replace(to_replace=['-'], value=np.nan, inplace=True) ### replace string\n",
    "ibov.replace(to_replace=['-'], value=np.nan, inplace=True)"
   ]
  },
  {
   "cell_type": "code",
   "execution_count": 110,
   "metadata": {},
   "outputs": [],
   "source": [
    "### Function to replace columns name\n",
    "def columns(df): #renomeando colunas com as ações\n",
    "    df.columns = df.columns.str[39:]\n",
    "columns(df)\n",
    "ibov.rename(columns={'Fechamento\\najust p/ prov\\nEm moeda orig': 'Ibovespa'}, inplace=True)"
   ]
  },
  {
   "cell_type": "code",
   "execution_count": 111,
   "metadata": {},
   "outputs": [
    {
     "data": {
      "text/plain": [
       "ABCB4    154\n",
       "ALPA4    154\n",
       "ABEV3    154\n",
       "AMER3    154\n",
       "B3SA3    154\n",
       "        ... \n",
       "VULC3    555\n",
       "WEGE3    154\n",
       "WHRL4    341\n",
       "PORT3    263\n",
       "YDUQ3    154\n",
       "Length: 135, dtype: int64"
      ]
     },
     "execution_count": 111,
     "metadata": {},
     "output_type": "execute_result"
    }
   ],
   "source": [
    "df.isnull().sum() ### counting NaN values in Data Frame"
   ]
  },
  {
   "cell_type": "code",
   "execution_count": 112,
   "metadata": {},
   "outputs": [],
   "source": [
    "df.fillna(method = 'ffill', inplace=True)\n",
    "ibov.fillna(method='ffill', inplace=True)"
   ]
  },
  {
   "cell_type": "code",
   "execution_count": 113,
   "metadata": {},
   "outputs": [],
   "source": [
    "### Pct change assets\n",
    "df_pct = df.pct_change()\n",
    "df_pct.dropna(inplace=True)\n",
    "df_pct = df_pct.loc[:'2022-06-30']\n",
    "\n",
    "### Pct change iboc\n",
    "ibov_pct = ibov.pct_change()\n",
    "ibov_pct.dropna(inplace=True)"
   ]
  },
  {
   "cell_type": "code",
   "execution_count": 126,
   "metadata": {},
   "outputs": [],
   "source": [
    "matrix = pd.concat([df_pct, ibov_pct], axis=1)"
   ]
  },
  {
   "cell_type": "code",
   "execution_count": 129,
   "metadata": {},
   "outputs": [],
   "source": [
    "matrix.dropna(inplace=True)"
   ]
  },
  {
   "cell_type": "code",
   "execution_count": 130,
   "metadata": {},
   "outputs": [],
   "source": [
    "obs_mat = np.expand_dims(np.vstack([[matrix['Ibovespa']], [np.ones(len(matrix['Ibovespa']))]]).T, axis=1)\n"
   ]
  },
  {
   "cell_type": "code",
   "execution_count": 131,
   "metadata": {},
   "outputs": [],
   "source": [
    "kalman = KalmanFilter(initial_state_mean=[0,0],\n",
    "                        initial_state_covariance=np.ones((2,2)),\n",
    "                        transition_matrices=np.eye(2),\n",
    "                        observation_matrices=obs_mat\n",
    "                        )"
   ]
  },
  {
   "cell_type": "code",
   "execution_count": 147,
   "metadata": {},
   "outputs": [],
   "source": [
    "state_means, state_cov = kalman.filter(matrix['Ibovespa'].values)"
   ]
  },
  {
   "cell_type": "code",
   "execution_count": 148,
   "metadata": {},
   "outputs": [
    {
     "data": {
      "text/plain": [
       "[<matplotlib.lines.Line2D at 0x1e23bca53f0>]"
      ]
     },
     "execution_count": 148,
     "metadata": {},
     "output_type": "execute_result"
    },
    {
     "data": {
      "image/png": "[encoded data removed]",
      "text/plain": [
       "<Figure size 1008x576 with 1 Axes>"
      ]
     },
     "metadata": {},
     "output_type": "display_data"
    }
   ],
   "source": [
    "plt.figure(figsize = (14,8))\n",
    "plt.plot(df_pct.index, state_means[:,0], label = \"Coeficiente\")"
   ]
  },
  {
   "cell_type": "code",
   "execution_count": 159,
   "metadata": {},
   "outputs": [],
   "source": [
    "delta = 1e-3\n",
    "trans_cov = delta / (1 - delta) * np.eye(2) # How much random walk wiggles\n",
    "obs_mat = np.expand_dims(np.vstack([[matrix['Ibovespa']], [np.ones(len(matrix['Ibovespa']))]]).T, axis=1)\n",
    "\n",
    "kf = KalmanFilter(n_dim_obs=1, n_dim_state=2, # y is 1-dimensional, (alpha, beta) is 2-dimensional\n",
    "                  initial_state_mean=[0,0],\n",
    "                  initial_state_covariance=np.ones((2, 2)),\n",
    "                  transition_matrices=np.eye(2),\n",
    "                  observation_matrices=obs_mat,\n",
    "                  observation_covariance=2,\n",
    "                  #transition_covariance=trans_cov\n",
    "                  )"
   ]
  },
  {
   "cell_type": "code",
   "execution_count": 160,
   "metadata": {},
   "outputs": [],
   "source": [
    "state_means, state_covs = kf.filter(matrix['Ibovespa'].values)\n"
   ]
  },
  {
   "cell_type": "code",
   "execution_count": 161,
   "metadata": {},
   "outputs": [
    {
     "data": {
      "text/plain": [
       "[<matplotlib.lines.Line2D at 0x1e238eab7f0>]"
      ]
     },
     "execution_count": 161,
     "metadata": {},
     "output_type": "execute_result"
    },
    {
     "data": {
      "image/png": "[encoded data removed]",
      "text/plain": [
       "<Figure size 432x288 with 1 Axes>"
      ]
     },
     "metadata": {},
     "output_type": "display_data"
    }
   ],
   "source": [
    "plt.plot(state_means[:,0])"
   ]
  },
  {
   "cell_type": "code",
   "execution_count": 142,
   "metadata": {},
   "outputs": [
    {
     "data": {
      "text/plain": [
       "Data\n",
       "2011-01-25    0.000000\n",
       "2011-01-26   -0.045426\n",
       "2011-01-27   -0.031725\n",
       "2011-01-28   -0.044369\n",
       "2011-01-31    0.008929\n",
       "                ...   \n",
       "2022-06-24   -0.014358\n",
       "2022-06-27    0.021850\n",
       "2022-06-28   -0.043478\n",
       "2022-06-29    0.001490\n",
       "2022-06-30   -0.000744\n",
       "Freq: B, Name: AMER3, Length: 2983, dtype: float64"
      ]
     },
     "execution_count": 142,
     "metadata": {},
     "output_type": "execute_result"
    }
   ],
   "source": [
    "matrix['AMER3']"
   ]
  },
  {
   "cell_type": "code",
   "execution_count": null,
   "metadata": {},
   "outputs": [],
   "source": []
  }
 ],
 "metadata": {
  "kernelspec": {
   "display_name": "Python 3.10.1 64-bit",
   "language": "python",
   "name": "python3"
  },
  "language_info": {
   "codemirror_mode": {
    "name": "ipython",
    "version": 3
   },
   "file_extension": ".py",
   "mimetype": "text/x-python",
   "name": "python",
   "nbconvert_exporter": "python",
   "pygments_lexer": "ipython3",
   "version": "3.10.1"
  },
  "orig_nbformat": 4,
  "vscode": {
   "interpreter": {
    "hash": "5d8d6585ecff087aaf3b073ed02ff41e2b11ecd26d9208369c52fff222386239"
   }
  }
 },
 "nbformat": 4,
 "nbformat_minor": 2
}
